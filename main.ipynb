{
 "cells": [
  {
   "cell_type": "code",
   "execution_count": 11,
   "metadata": {},
   "outputs": [],
   "source": [
    "import pandas as pd \n",
    "from bs4 import BeautifulSoup as bs \n",
    "import requests\n",
    "import json\n",
    "import random\n"
   ]
  },
  {
   "cell_type": "code",
   "execution_count": 12,
   "metadata": {},
   "outputs": [],
   "source": [
    "def extract_data(query):\n",
    "    user_agents = [\n",
    "        'Mozilla/5.0 (Windows NT 10.0; Win64; x64) AppleWebKit/537.36 (KHTML, like Gecko) Chrome/91.0.4472.124 Safari/537.36',\n",
    "        'Mozilla/5.0 (Windows NT 10.0; Win64; x64; rv:89.0) Gecko/20100101 Firefox/89.0',\n",
    "        'Mozilla/5.0 (Macintosh; Intel Mac OS X 10_15_7) AppleWebKit/537.36 (KHTML, like Gecko) Chrome/91.0.4472.114 Safari/537.36'\n",
    "    ]\n",
    "    session = requests.Session()\n",
    "    def get_response(url):\n",
    "        headers = {'User-Agent': random.choice(user_agents)}\n",
    "        response = session.get(url, headers=headers,timeout=10)\n",
    "        response.raise_for_status()\n",
    "        return response\n",
    "    rest_data = []\n",
    "    page = 1\n",
    "    while True:\n",
    "        print(page)\n",
    "        try:\n",
    "            url = f\"https://uk.trustpilot.com/review/{query}?page={page}\"\n",
    "            response = get_response(url)\n",
    "            soup = bs(response.content,'html.parser')\n",
    "            element = soup.find_all('script',{\"type\":\"application/ld+json\"})\n",
    "            data = element[0].text\n",
    "            json_file = json.loads(data)\n",
    "            company_name = json_file['@graph'][6]['name']\n",
    "            data_element = json_file['@graph']\n",
    "            for item in data_element:\n",
    "                if item.get('@type') =='Review':\n",
    "                    author = item.get('author')\n",
    "                    author_name = author['name']\n",
    "                    date_published = item.get('datePublished')\n",
    "                    headline = item.get('headline')\n",
    "                    review_body = item.get('reviewBody')\n",
    "                    rating = item.get('reviewRating')\n",
    "                    rating_value = rating['ratingValue']\n",
    "                    dict_1 = {'Company Review':company_name,'Author':author_name,'Date':date_published,'headline':headline,'reviewBody':review_body,'ratingValue':rating_value}\n",
    "                    rest_data.append(dict_1)\n",
    "            page= page+1\n",
    "        except requests.exceptions.HTTPError as e:\n",
    "            break\n",
    "    return rest_data\n"
   ]
  },
  {
   "cell_type": "code",
   "execution_count": 13,
   "metadata": {},
   "outputs": [
    {
     "name": "stdout",
     "output_type": "stream",
     "text": [
      "1\n",
      "2\n",
      "3\n",
      "4\n",
      "5\n",
      "6\n",
      "7\n",
      "8\n",
      "9\n",
      "10\n",
      "11\n",
      "12\n",
      "13\n",
      "14\n",
      "15\n"
     ]
    }
   ],
   "source": [
    "data = extract_data('www.flipdish.com')\n",
    "df = pd.DataFrame(data)\n",
    "df.to_csv('Company_reviews.csv')"
   ]
  },
  {
   "cell_type": "code",
   "execution_count": null,
   "metadata": {},
   "outputs": [],
   "source": []
  }
 ],
 "metadata": {
  "kernelspec": {
   "display_name": "3.12",
   "language": "python",
   "name": "python3"
  },
  "language_info": {
   "codemirror_mode": {
    "name": "ipython",
    "version": 3
   },
   "file_extension": ".py",
   "mimetype": "text/x-python",
   "name": "python",
   "nbconvert_exporter": "python",
   "pygments_lexer": "ipython3",
   "version": "3.12.3"
  }
 },
 "nbformat": 4,
 "nbformat_minor": 2
}
